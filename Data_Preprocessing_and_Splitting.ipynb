{
 "cells": [
  {
   "cell_type": "code",
   "execution_count": 1,
   "metadata": {},
   "outputs": [
    {
     "name": "stderr",
     "output_type": "stream",
     "text": [
      "/home/ankan/anaconda3/lib/python3.6/site-packages/PIL/Image.py:916: UserWarning: Palette images with Transparency   expressed in bytes should be converted to RGBA images\n",
      "  'to RGBA images')\n"
     ]
    }
   ],
   "source": [
    "import os\n",
    "import shutil\n",
    "import math\n",
    "from PIL import Image\n",
    "directory = \"/home/ankan/Projects/sleeve/data_sleeves\"\n",
    "\n",
    "\n",
    "#Resizing the data of the shape(224,224) and converting the png images to jpeg images\n",
    "\n",
    "resized_path = os.path.join(directory, \"Resized_Data\")\n",
    "if not os.path.exists(resized_path):\n",
    "    os.makedirs(resized_path)\n",
    "\n",
    "for dir_name in os.listdir(directory):\n",
    "        if dir_name != \"Resized_Data\":\n",
    "            image_folder = os.path.join(directory,dir_name)\n",
    "            resized_image_path = os.path.join(resized_path, dir_name)\n",
    "            if not os.path.exists(resized_image_path):\n",
    "                os.makedirs(resized_image_path)\n",
    "            \n",
    "            for filename in os.listdir(image_folder):\n",
    "                try:\n",
    "                    if not os.path.isfile(filename):\n",
    "                        file = os.path.join(image_folder,filename)\n",
    "                        copy_path = resized_image_path+\"/\"+filename\n",
    "                        im = Image.open(file)\n",
    "                        rgb_im = im.convert('RGB')   #PNG to JPEG conversion\n",
    "                        imResize = rgb_im.resize((224,224), Image.ANTIALIAS)   # Resizing\n",
    "                        imResize.save(copy_path, 'JPEG', quality=90)\n",
    "                except:\n",
    "                    pass\n",
    "    "
   ]
  },
  {
   "cell_type": "code",
   "execution_count": 2,
   "metadata": {},
   "outputs": [],
   "source": [
    "# Spliting the Data into Train,Test and Validation\n",
    "\n",
    "directory = \"/home/ankan/Projects/sleeve/data_sleeves/Resized_Data\"\n",
    "path = directory.rpartition(\"/\")\n",
    "\n",
    "data_path_train = os.path.join(directory, \"Data\",\"train\")\n",
    "if not os.path.exists(data_path_train):\n",
    "    os.makedirs(data_path_train)\n",
    "    \n",
    "data_path_test = os.path.join(directory, \"Data\",\"test\")\n",
    "if not os.path.exists(data_path_test):\n",
    "    os.makedirs(data_path_test)\n",
    "    \n",
    "data_path_val = os.path.join(directory, \"Data\",\"validation\")\n",
    "if not os.path.exists(data_path_val):\n",
    "    os.makedirs(data_path_val)\n",
    "\n",
    "for i in range(3):\n",
    "    if i == 0:\n",
    "        folder_path = data_path_train\n",
    "        percent = 0.8\n",
    "    elif i == 1:\n",
    "        folder_path = data_path_test\n",
    "        percent = 0.5\n",
    "    elif i == 2:\n",
    "        folder_path = data_path_val\n",
    "        percent = 1\n",
    "        \n",
    "    for dir_name in os.listdir(directory):\n",
    "        if dir_name != \"Data\":\n",
    "            image_folder = os.path.join(directory,dir_name)\n",
    "            copy_folder = os.path.join(folder_path,dir_name)\n",
    "            number_of_images = len([name for name in os.listdir(image_folder) ])\n",
    "            count_images = math.ceil(percent * number_of_images)\n",
    "            \n",
    "            if not os.path.exists(copy_folder):\n",
    "                os.makedirs(copy_folder)\n",
    "            count = 0\n",
    "            for filename in os.listdir(image_folder):\n",
    "                if count < count_images:\n",
    "                    count +=1\n",
    "                    try:\n",
    "                        if not os.path.isfile(filename):\n",
    "                            file = os.path.join(image_folder,filename)\n",
    "                            shutil.move(file,copy_folder)\n",
    "                    except:\n",
    "                        pass\n",
    "    "
   ]
  }
 ],
 "metadata": {
  "kernelspec": {
   "display_name": "Python 3",
   "language": "python",
   "name": "python3"
  },
  "language_info": {
   "codemirror_mode": {
    "name": "ipython",
    "version": 3
   },
   "file_extension": ".py",
   "mimetype": "text/x-python",
   "name": "python",
   "nbconvert_exporter": "python",
   "pygments_lexer": "ipython3",
   "version": "3.6.4"
  }
 },
 "nbformat": 4,
 "nbformat_minor": 2
}
